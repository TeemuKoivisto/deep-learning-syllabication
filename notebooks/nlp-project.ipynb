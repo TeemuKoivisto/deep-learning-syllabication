{
 "cells": [
  {
   "cell_type": "markdown",
   "metadata": {},
   "source": [
    "# Introduction to NLP, Spring 2020\n",
    "## Course Project\n",
    "## Teemu Koivisto 014211393"
   ]
  },
  {
   "cell_type": "markdown",
   "metadata": {},
   "source": [
    "The goal of this project is to create a better hyphenation model than what is currently available as the [Hyphenation algorithm](https://en.wikipedia.org/wiki/Hyphenation_algorithm).\n",
    "\n",
    "For building the model I am using the [Moby Project's](https://en.wikipedia.org/wiki/Moby_Project) Grady Ward's dataset of 187,175 manually syllabized words and phrases http://www.gutenberg.org/ebooks/author/1132\n",
    "\n",
    "The baseline model's accuracy is 0.47 which is remarkably low. To improve this I am testing a series of different model such as RNN, CNN, HMM."
   ]
  },
  {
   "cell_type": "code",
   "execution_count": 8,
   "metadata": {},
   "outputs": [],
   "source": [
    "import nltk\n",
    "\n",
    "from nltk.stem import WordNetLemmatizer\n",
    "from nltk.tokenize import TreebankWordTokenizer\n",
    "\n",
    "from nltk.corpus import stopwords\n",
    "from nltk.tokenize import word_tokenize\n",
    "\n",
    "import numpy as np\n",
    "import pandas as pd\n",
    "import matplotlib.pyplot as plt"
   ]
  },
  {
   "cell_type": "code",
   "execution_count": 78,
   "metadata": {},
   "outputs": [
    {
     "name": "stderr",
     "output_type": "stream",
     "text": [
      "[nltk_data] Downloading package cmudict to /Users/teemu/nltk_data...\n",
      "[nltk_data]   Package cmudict is already up-to-date!\n"
     ]
    }
   ],
   "source": [
    "nltk.download('cmudict')\n",
    "\n",
    "from nltk.corpus import cmudict\n",
    "from typing import Callable, List, Optional\n",
    "\n",
    "pronunciations = cmudict.dict()"
   ]
  },
  {
   "cell_type": "code",
   "execution_count": 7,
   "metadata": {},
   "outputs": [
    {
     "data": {
      "text/plain": [
       "['in', 'tro', 'duc', 'tion']"
      ]
     },
     "execution_count": 7,
     "metadata": {},
     "output_type": "execute_result"
    }
   ],
   "source": [
    "from hyphenate import hyphenate_word\n",
    "\n",
    "hyphenate_word('introduction')"
   ]
  },
  {
   "cell_type": "code",
   "execution_count": 98,
   "metadata": {},
   "outputs": [],
   "source": [
    "data = pd.read_csv('mhyph.txt', names=['syllabication'])\n",
    "h = 'Ľ'"
   ]
  },
  {
   "cell_type": "code",
   "execution_count": 99,
   "metadata": {},
   "outputs": [],
   "source": [
    "def repl(x):\n",
    "    if type(x) == float:\n",
    "        return str(x)\n",
    "    return x.replace(h, '')\n",
    "\n",
    "def syllabize(x):\n",
    "    if type(x) == float:\n",
    "        return [str(x)]\n",
    "    return x.split(h)\n",
    "\n",
    "def hyphenate(x):\n",
    "    return hyphenate_word(x)\n",
    "\n",
    "data[\"word\"] = data[\"syllabication\"].apply(repl)\n",
    "data[\"true-syllabized\"] = data[\"syllabication\"].apply(syllabize)\n",
    "data[\"baseline-syllabized\"] = data[\"word\"].apply(hyphenate)"
   ]
  },
  {
   "cell_type": "code",
   "execution_count": 100,
   "metadata": {},
   "outputs": [],
   "source": [
    "data.to_csv('data.csv', index=False)"
   ]
  },
  {
   "cell_type": "code",
   "execution_count": 101,
   "metadata": {},
   "outputs": [
    {
     "data": {
      "text/html": [
       "<div>\n",
       "<style scoped>\n",
       "    .dataframe tbody tr th:only-of-type {\n",
       "        vertical-align: middle;\n",
       "    }\n",
       "\n",
       "    .dataframe tbody tr th {\n",
       "        vertical-align: top;\n",
       "    }\n",
       "\n",
       "    .dataframe thead th {\n",
       "        text-align: right;\n",
       "    }\n",
       "</style>\n",
       "<table border=\"1\" class=\"dataframe\">\n",
       "  <thead>\n",
       "    <tr style=\"text-align: right;\">\n",
       "      <th></th>\n",
       "      <th>syllabication</th>\n",
       "      <th>word</th>\n",
       "      <th>true-syllabized</th>\n",
       "      <th>baseline-syllabized</th>\n",
       "    </tr>\n",
       "  </thead>\n",
       "  <tbody>\n",
       "    <tr>\n",
       "      <th>0</th>\n",
       "      <td>a capĽpelĽla</td>\n",
       "      <td>a cappella</td>\n",
       "      <td>[a cap, pel, la]</td>\n",
       "      <td>[a , cap, pel, la]</td>\n",
       "    </tr>\n",
       "    <tr>\n",
       "      <th>1</th>\n",
       "      <td>a forĽtiĽoĽri</td>\n",
       "      <td>a fortiori</td>\n",
       "      <td>[a for, ti, o, ri]</td>\n",
       "      <td>[a , for, tiori]</td>\n",
       "    </tr>\n",
       "    <tr>\n",
       "      <th>2</th>\n",
       "      <td>a goĽgo</td>\n",
       "      <td>a gogo</td>\n",
       "      <td>[a go, go]</td>\n",
       "      <td>[a , gogo]</td>\n",
       "    </tr>\n",
       "    <tr>\n",
       "      <th>3</th>\n",
       "      <td>a posĽteĽriĽoĽri</td>\n",
       "      <td>a posteriori</td>\n",
       "      <td>[a pos, te, ri, o, ri]</td>\n",
       "      <td>[a , pos, te, ri, ori]</td>\n",
       "    </tr>\n",
       "    <tr>\n",
       "      <th>4</th>\n",
       "      <td>a priĽoĽri</td>\n",
       "      <td>a priori</td>\n",
       "      <td>[a pri, o, ri]</td>\n",
       "      <td>[a pri, ori]</td>\n",
       "    </tr>\n",
       "  </tbody>\n",
       "</table>\n",
       "</div>"
      ],
      "text/plain": [
       "      syllabication          word         true-syllabized  \\\n",
       "0      a capĽpelĽla    a cappella        [a cap, pel, la]   \n",
       "1     a forĽtiĽoĽri    a fortiori      [a for, ti, o, ri]   \n",
       "2           a goĽgo        a gogo              [a go, go]   \n",
       "3  a posĽteĽriĽoĽri  a posteriori  [a pos, te, ri, o, ri]   \n",
       "4        a priĽoĽri      a priori          [a pri, o, ri]   \n",
       "\n",
       "      baseline-syllabized  \n",
       "0      [a , cap, pel, la]  \n",
       "1        [a , for, tiori]  \n",
       "2              [a , gogo]  \n",
       "3  [a , pos, te, ri, ori]  \n",
       "4            [a pri, ori]  "
      ]
     },
     "execution_count": 101,
     "metadata": {},
     "output_type": "execute_result"
    }
   ],
   "source": [
    "data.head(5)"
   ]
  },
  {
   "cell_type": "code",
   "execution_count": 102,
   "metadata": {},
   "outputs": [
    {
     "name": "stdout",
     "output_type": "stream",
     "text": [
      "0.47460398023240286\n"
     ]
    }
   ],
   "source": [
    "corr = sum(data[\"true-syllabized\"] == data[\"baseline-syllabized\"])\n",
    "acc = corr / len(data)\n",
    "print(acc)"
   ]
  },
  {
   "cell_type": "markdown",
   "metadata": {},
   "source": [
    "## Current accuracy\n",
    "\n",
    "Current accuracy with the out-of-the-box Liang's hyphenation algorithm is 0.47"
   ]
  },
  {
   "cell_type": "code",
   "execution_count": 79,
   "metadata": {},
   "outputs": [],
   "source": [
    "def pronounce(word: str) -> Optional[List[str]]:\n",
    "    \"\"\"Return a pronunciation of a word.\n",
    "\n",
    "    If the word is unknown, returns None. \n",
    "    \n",
    "    For known words, output is a list of strings wherein each string\n",
    "    corresponds to a phoneme. If the word has multiple known\n",
    "    pronunciations, returns an arbitrary one of those.\n",
    "\n",
    "    Example:\n",
    "    >>> pronounce(\"Hello\")\n",
    "    ['HH', 'AH0', 'L', 'OW1']\n",
    "    \"\"\"\n",
    "    word = word.lower()\n",
    "    if word not in pronunciations:\n",
    "        return None\n",
    "    return pronunciations[word][0]\n",
    "\n",
    "pronounce(data[\"word\"][187170])"
   ]
  },
  {
   "cell_type": "code",
   "execution_count": 87,
   "metadata": {},
   "outputs": [
    {
     "data": {
      "text/plain": [
       "['HH', 'AH0', 'L', 'OW1']"
      ]
     },
     "execution_count": 87,
     "metadata": {},
     "output_type": "execute_result"
    }
   ],
   "source": [
    "pronounce(\"hello\")"
   ]
  },
  {
   "cell_type": "code",
   "execution_count": 75,
   "metadata": {},
   "outputs": [
    {
     "data": {
      "text/plain": [
       "['A cer', 'tain k', 'ing had a beau', 'ti', 'ful ', 'gar', 'den']"
      ]
     },
     "execution_count": 75,
     "metadata": {},
     "output_type": "execute_result"
    }
   ],
   "source": [
    "hyphenate_word(\"A certain king had a beautiful garden\")"
   ]
  },
  {
   "cell_type": "code",
   "execution_count": 58,
   "metadata": {},
   "outputs": [
    {
     "data": {
      "text/plain": [
       "['zy', 'mo', 'plas', 'tic']"
      ]
     },
     "execution_count": 58,
     "metadata": {},
     "output_type": "execute_result"
    }
   ],
   "source": [
    "hyphenate_word(data[\"word\"][187170])"
   ]
  },
  {
   "cell_type": "code",
   "execution_count": 63,
   "metadata": {},
   "outputs": [
    {
     "data": {
      "text/plain": [
       "['zy', 'mo', 'plas', 'tic']"
      ]
     },
     "execution_count": 63,
     "metadata": {},
     "output_type": "execute_result"
    }
   ],
   "source": [
    "data[\"syllabized\"][187170].split(h)"
   ]
  },
  {
   "cell_type": "code",
   "execution_count": 91,
   "metadata": {},
   "outputs": [
    {
     "data": {
      "text/plain": [
       "['as', 'so', 'ciate']"
      ]
     },
     "execution_count": 91,
     "metadata": {},
     "output_type": "execute_result"
    }
   ],
   "source": [
    "hyphenate_word(\"associate\")"
   ]
  },
  {
   "cell_type": "code",
   "execution_count": 94,
   "metadata": {},
   "outputs": [
    {
     "data": {
      "text/html": [
       "<div>\n",
       "<style scoped>\n",
       "    .dataframe tbody tr th:only-of-type {\n",
       "        vertical-align: middle;\n",
       "    }\n",
       "\n",
       "    .dataframe tbody tr th {\n",
       "        vertical-align: top;\n",
       "    }\n",
       "\n",
       "    .dataframe thead th {\n",
       "        text-align: right;\n",
       "    }\n",
       "</style>\n",
       "<table border=\"1\" class=\"dataframe\">\n",
       "  <thead>\n",
       "    <tr style=\"text-align: right;\">\n",
       "      <th></th>\n",
       "      <th>syllabication</th>\n",
       "      <th>word</th>\n",
       "      <th>syllabized</th>\n",
       "      <th>hyphenated</th>\n",
       "    </tr>\n",
       "  </thead>\n",
       "  <tbody>\n",
       "    <tr>\n",
       "      <th>68203</th>\n",
       "      <td>helĽlo</td>\n",
       "      <td>hello</td>\n",
       "      <td>[hel, lo]</td>\n",
       "      <td>[hel, lo]</td>\n",
       "    </tr>\n",
       "  </tbody>\n",
       "</table>\n",
       "</div>"
      ],
      "text/plain": [
       "      syllabication   word syllabized hyphenated\n",
       "68203        helĽlo  hello  [hel, lo]  [hel, lo]"
      ]
     },
     "execution_count": 94,
     "metadata": {},
     "output_type": "execute_result"
    }
   ],
   "source": [
    "data[data[\"word\"] == \"hello\"]"
   ]
  },
  {
   "cell_type": "code",
   "execution_count": null,
   "metadata": {},
   "outputs": [],
   "source": []
  }
 ],
 "metadata": {
  "kernelspec": {
   "display_name": "Python 3",
   "language": "python",
   "name": "python3"
  },
  "language_info": {
   "codemirror_mode": {
    "name": "ipython",
    "version": 3
   },
   "file_extension": ".py",
   "mimetype": "text/x-python",
   "name": "python",
   "nbconvert_exporter": "python",
   "pygments_lexer": "ipython3",
   "version": "3.7.6"
  }
 },
 "nbformat": 4,
 "nbformat_minor": 4
}
